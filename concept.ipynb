{
 "cells": [
  {
   "cell_type": "code",
   "execution_count": 5,
   "id": "b91fee77-0a58-4b2f-a603-0d96b1a508e1",
   "metadata": {},
   "outputs": [],
   "source": [
    "!pip3 install huggingsound -q\n",
    "!pip3 install ipywidgets -q\n",
    "#!pip3 install pydub -q\n",
    "#!pip3 install boto3 -q\n",
    "\n",
    "# https://github.com/jonatasgrosman/huggingsound\n"
   ]
  },
  {
   "cell_type": "code",
   "execution_count": 4,
   "id": "8f9a4aa2-e123-406f-86f3-51112376972b",
   "metadata": {},
   "outputs": [],
   "source": [
    "import pandas as pd\n",
    "from huggingsound import SpeechRecognitionModel\n",
    "from transformers import pipeline"
   ]
  },
  {
   "cell_type": "code",
   "execution_count": 7,
   "id": "fd6585f3-0584-48b3-a040-42cbfc12c5fe",
   "metadata": {},
   "outputs": [
    {
     "name": "stdout",
     "output_type": "stream",
     "text": [
      "04/21/2022 21:59:07 - INFO - huggingsound.speech_recognition.model - Loading model...\n"
     ]
    },
    {
     "name": "stderr",
     "output_type": "stream",
     "text": [
      "100%|██████████| 1/1 [02:58<00:00, 178.88s/it]\n"
     ]
    }
   ],
   "source": [
    "model = SpeechRecognitionModel(\"jonatasgrosman/wav2vec2-large-xlsr-53-english\")\n",
    "audio_paths = [\"/Users/matthewfreihaut/Projects/Jupyter/MLOps_project/ListenNotes.com-Eqafd8rPsmC-1650230481.mp3\"]\n",
    "transcriptions = model.transcribe(audio_paths)"
   ]
  },
  {
   "cell_type": "code",
   "execution_count": 37,
   "id": "d61884ef-1382-4ea5-abde-d2cae658d23f",
   "metadata": {},
   "outputs": [],
   "source": [
    "classifcations = pd.read_csv('/Users/matthewfreihaut/Projects/Jupyter/MLOps_project/IAB_classifications.csv')\n",
    "canidate_labels = classifcations['Tier 1'].to_list()\n",
    "\n"
   ]
  },
  {
   "cell_type": "code",
   "execution_count": 38,
   "id": "b95870d5-233c-4fb1-af31-44a8721a3e04",
   "metadata": {},
   "outputs": [
    {
     "data": {
      "text/plain": [
       "40"
      ]
     },
     "execution_count": 38,
     "metadata": {},
     "output_type": "execute_result"
    }
   ],
   "source": [
    "canidate_labels = list(set(canidate_labels))\n",
    "len(canidate_labels)"
   ]
  },
  {
   "cell_type": "code",
   "execution_count": 39,
   "id": "a0ea4b69-8da5-409e-a971-286c65c0f12f",
   "metadata": {},
   "outputs": [
    {
     "data": {
      "text/plain": [
       "\"butthese dayi trying something differentwhen i thought having unistop runnevery least i slow down catch my breath because yes longdrom gaines are importantbut should they always come attheexpence of enjoying the heron nowawhere waii learn this lessed about running while listening to the conversation your about to hear between next big idea club curator malcolm gladwell and writer oliver borkmanthe got together to discuss oliver's new book four thousand weekstime-management for mortalswhich was chosen by our curators as one of the eight best books published last yearthe book begins like ismcmillan odiomtofast words withothe average human life u is absurdly terrifyinginsultingly shortmake it toeighty and youll get about four thousand weeksand so as the poet asked what will you do with your one wild and precious lifefor most of us answer is obvious get busyif we want to squeeze all the jece out of orange that is life we have to be focused we have to be intense we have to do it better so we eagerly absorb the gospel of time management gurus we load up our smartphones with apps that promised to declutter our inboxes supercharge our tulists and stremlineaur calendars we strategize and organize and optimsethese are all things oliver used todoi've ried dividing my days into fifteen-mte blocks dividing my tusks into abn c priorties ive tried ling my daily actions with my goals and m goals with my clvalueslip from  ecourse he made about his book for e next b\""
      ]
     },
     "execution_count": 39,
     "metadata": {},
     "output_type": "execute_result"
    }
   ],
   "source": [
    "text = transcriptions[0]['transcription']\n",
    "text"
   ]
  },
  {
   "cell_type": "code",
   "execution_count": 40,
   "id": "10da5a36-42b6-453c-8b30-4662f36398d8",
   "metadata": {},
   "outputs": [
    {
     "name": "stderr",
     "output_type": "stream",
     "text": [
      "No model was supplied, defaulted to facebook/bart-large-mnli (https://huggingface.co/facebook/bart-large-mnli)\n"
     ]
    }
   ],
   "source": [
    "classifier = pipeline('zero-shot-classification')\n",
    "labels = classifier(text, canidate_labels)"
   ]
  },
  {
   "cell_type": "code",
   "execution_count": 36,
   "id": "76b47370",
   "metadata": {},
   "outputs": [
    {
     "data": {
      "text/plain": [
       "[nan, 'Bowling', 'Horror', 'Outdoor Activities', 'Humor and Satire']"
      ]
     },
     "execution_count": 36,
     "metadata": {},
     "output_type": "execute_result"
    }
   ],
   "source": [
    "labels['labels'][0:5]"
   ]
  },
  {
   "cell_type": "code",
   "execution_count": 24,
   "id": "635e3536",
   "metadata": {},
   "outputs": [
    {
     "data": {
      "text/plain": [
       "[nan,\n",
       " 'Celebrity Deaths',\n",
       " 'Art and Photography',\n",
       " 'Celebrity Scandal',\n",
       " 'Celebrity Relationships',\n",
       " 'Celebrity Pregnancy',\n",
       " 'Celebrity Style',\n",
       " 'Poetry',\n",
       " 'Comics and Graphic Novels',\n",
       " 'Celebrity Homes',\n",
       " 'Humor and Satire',\n",
       " 'Celebrity Families',\n",
       " 'Fiction']"
      ]
     },
     "execution_count": 24,
     "metadata": {},
     "output_type": "execute_result"
    }
   ],
   "source": [
    "\n",
    "filtered_t2_classifcations = classifcations.loc[classifcations['Tier 1'].isin(labels['labels'][:5])]['Tier 2']\n",
    "list(set(filtered_t2_classifcations.to_list()))"
   ]
  },
  {
   "cell_type": "code",
   "execution_count": 25,
   "id": "a5e7862e",
   "metadata": {},
   "outputs": [],
   "source": [
    "labels = classifier(text, list(set(filtered_t2_classifcations.to_list())))"
   ]
  },
  {
   "cell_type": "code",
   "execution_count": 28,
   "id": "a67b1c94",
   "metadata": {},
   "outputs": [
    {
     "data": {
      "text/plain": [
       "[nan, 'Humor and Satire', 'Poetry', 'Celebrity Style']"
      ]
     },
     "execution_count": 28,
     "metadata": {},
     "output_type": "execute_result"
    }
   ],
   "source": [
    "labels['labels'][:4]"
   ]
  }
 ],
 "metadata": {
  "kernelspec": {
   "display_name": "Python 3",
   "language": "python",
   "name": "python3"
  },
  "language_info": {
   "codemirror_mode": {
    "name": "ipython",
    "version": 3
   },
   "file_extension": ".py",
   "mimetype": "text/x-python",
   "name": "python",
   "nbconvert_exporter": "python",
   "pygments_lexer": "ipython3",
   "version": "3.8.9"
  }
 },
 "nbformat": 4,
 "nbformat_minor": 5
}
